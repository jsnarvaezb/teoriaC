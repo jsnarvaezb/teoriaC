{
 "cells": [
  {
   "cell_type": "markdown",
   "metadata": {},
   "source": [
    "# INTRODUCCION A LA TEORIA DE LA COMPUTACION\n",
    "\n",
    "## JUAN SEBASTIAN NARVAEZ BELTRAN\n",
    "### COD 2879781\n"
   ]
  },
  {
   "cell_type": "markdown",
   "metadata": {},
   "source": [
    "## Ejercicio 1.\n",
    "Considere el problema de determinar si un código corresponde a un ISBN de 13 dígitos. Construya un autómata finito determinístico para identificar si un código es válido o no. Especifique formalmente el autómata, dibuje el diagrama y la tabla de transiciones. Implemente el autómata correspondiente utilizado una clase autómata. (4 Puntos)"
   ]
  },
  {
   "cell_type": "markdown",
   "metadata": {},
   "source": [
    "### Solución\n",
    "\n",
    "Se define el autómata finito determinístico como: $A= (Q,\\sum,\\delta,Q_0,F)$, donde:\n",
    "\n",
    "$Q=\\{q_0, q_1, q_2\\}$\n",
    "\n",
    "$\\sum= \\{0,1,2,3,4,5,6,7,8,9\\}$\n",
    "\n",
    "$Q_0= \\{q_0\\}$\n",
    "\n",
    "$F=\\{q_1\\}$\n",
    "\n",
    "Y la función de transición $\\delta$ como:  \n"
   ]
  },
  {
   "cell_type": "markdown",
   "metadata": {},
   "source": [
    "| $\\delta$  |0,1,2,...,9| \n",
    "|---------- |:---------:|\n",
    "|   ->$q_0$ | $q_1$     | \n",
    "| * $q_1$   | $q_2$     | \n",
    "|   $q_2$   | $q_1$     | "
   ]
  },
  {
   "cell_type": "markdown",
   "metadata": {},
   "source": [
    "Diagrama\n",
    "![a0](a0.jpg)"
   ]
  },
  {
   "cell_type": "code",
   "execution_count": null,
   "metadata": {
    "collapsed": false
   },
   "outputs": [
    {
     "name": "stdout",
     "output_type": "stream",
     "text": [
      "Ingrese codigo ISBN\n"
     ]
    }
   ],
   "source": [
    "class Automata:\n",
    "    suma = 0\n",
    "    count = 0\n",
    "    print(\"Ingrese codigo ISBN\")\n",
    "    x=input()\n",
    "    def q0(self):\n",
    "        s=self.suma = 0\n",
    "        c=self.count = 0\n",
    "        self.q1(self.x)\n",
    "\n",
    "    def q1(self,x):\n",
    "        if self.count<12:\n",
    "            self.suma=self.suma+int(self.x[self.count])\n",
    "            self.count= self.count+1\n",
    "            self.q2(self.x)\n",
    "        else:\n",
    "            out= 10-int(self.suma%10)\n",
    "            if out==10:\n",
    "                out=0\n",
    "            if int(out)==int(self.x[12]):\n",
    "                print(\"El codigo ISBN es correcto\")\n",
    "            else:\n",
    "                print(\"El codigo ISBN es incorrecto\")\n",
    "\n",
    "    def q2(self, x):\n",
    "        self.suma=self.suma+3*int(self.x[self.count])\n",
    "        self.count=self.count+1\n",
    "        self.q1(self.x)\n",
    "        \n",
    "a=Automata()\n",
    "\n",
    "a.q0()\n"
   ]
  },
  {
   "cell_type": "markdown",
   "metadata": {},
   "source": [
    "## Ejercicio 2.\n",
    "Construya un autómata finito determinístico sobre el alfabeto ${a,b}$ la cual acepte todas las cadenas que contengan NO más de dos ocurrencias consecutivas de la misma entrada (Por ejemplo, abba es aceptada y abbba no es aceptada). Especifique formalmente el autómata, dibuje el diagrama y la tabla de transiciones. (2 Puntos)"
   ]
  },
  {
   "cell_type": "markdown",
   "metadata": {},
   "source": [
    "### Solución\n",
    "\n",
    "Se define el autómata finito determinístico como: $A= (Q,\\sum,\\delta,Q_0,F)$, donde:\n",
    "\n",
    "$Q=\\{q_0, q_1, q_2, q_3, q_4, q_5\\}$\n",
    "\n",
    "$\\sum= \\{a,b\\}$\n",
    "\n",
    "$Q_0= \\{q_0\\}$\n",
    "\n",
    "$F=\\{q_0, q_1, q_2, q_5\\}$\n",
    "\n",
    "Y la función de transición $\\delta$ como:  "
   ]
  },
  {
   "cell_type": "markdown",
   "metadata": {},
   "source": [
    "| $\\delta$  |   a       |   b       | $\\epsilon$ |\n",
    "|---------- |:---------:|:---------:|:----------:|\n",
    "| * ->$q_0$ | $q_1$     | $q_2$     |$\\emptyset$ |\n",
    "| * $q_1$   | $q_3$     | $q_2$     |$\\emptyset$ |\n",
    "| * $q_2$   | $q_1$     | $q_4$     |$\\emptyset$ |\n",
    "| $q_3$     |$\\emptyset$| $q_4$     |$q_5$       |\n",
    "| $q_4$     | $q_1$     |$\\emptyset$|$q_5$       |\n",
    "| * $q_5$   | $q_1$     | $q_4$     |$\\emptyset$ |\n",
    "    "
   ]
  },
  {
   "cell_type": "markdown",
   "metadata": {},
   "source": [
    "Diagrama\n",
    "![a2](a2.jpg)"
   ]
  },
  {
   "cell_type": "markdown",
   "metadata": {},
   "source": [
    "## Ejercicio 4\n",
    "Dados dos autómatas finitos determinísticos $M_1$ y $M_2$ con el mismo alfabeto de entrada, construya un tercer autómata finito determinísticos $(M)$ con la propiedad que $u \\in \\sum^*$ es aceptado por $M$ si y solo si es aceptado por ambos $M_1$ y $M_2$. (2 Puntos)"
   ]
  },
  {
   "cell_type": "markdown",
   "metadata": {
    "collapsed": true
   },
   "source": [
    "Sea $M_1 (Q_1,\\sum_1\\delta_1,(Q_0)_1,F_1)$, $M_2 (Q_2,\\sum_2\\delta_2,(Q_0)_2,F_2)$ y Sea $M (Q,\\sum\\delta,Q_0,F)$\n",
    "\n",
    "$u$ es aceptada por $M$ si:\n",
    "\n",
    "$\\delta^˜((q_0)_1, u) = F_1\\ \\ \\ y \\ \\ \\  \\delta^˜((q_0)_2, u) = F_2 $, entonces\n",
    "\n",
    "$\\delta^˜(q_0, u) = F$\n",
    "\n",
    "\n"
   ]
  },
  {
   "cell_type": "markdown",
   "metadata": {},
   "source": [
    "## Ejercicio 5\n",
    "\n",
    "Construya un autómata finito no determinístico que permita aceptar palabras sobre el alfabeto ${1,2,3}$ tal que el último símbolo aparezca al menos dos veces, pero sin la intervención de un símbolo superior en la mitad. Por ejemplo, 11, 2112, 123113, 3212113, etc. (2 Puntos)"
   ]
  },
  {
   "cell_type": "markdown",
   "metadata": {},
   "source": [
    "### Solución\n",
    "\n",
    "Se define el autómata finito determinístico como: $A= (Q,\\sum,\\delta,Q_0,F)$, donde:\n",
    "\n",
    "$Q=\\{q_0, q_1, q_2, q_3, q_4\\}$\n",
    "\n",
    "$\\sum= \\{1,2,3\\}$\n",
    "\n",
    "$Q_0= \\{q_0\\}$\n",
    "\n",
    "$F=\\{q_4\\}$\n",
    "\n",
    "Y la función de transición $\\delta$ como:  "
   ]
  },
  {
   "cell_type": "markdown",
   "metadata": {},
   "source": [
    "| $\\delta$  |   1           |     2         | 3             |\n",
    "|---------- |:-------------:|:-------------:|:-------------:|\n",
    "| ->$q_0$   | {$q_0$,$q_3$} | {$q_0$,$q_2$} |{$q_0$,$q_1$}  |\n",
    "| $q_1$     | $q_1$         | $q_1$         |{$q_1$, $q_4$} |\n",
    "| $q_2$     | $q_2$         | {$q_2$, $q_4$}|$\\emptyset$    |\n",
    "| $q_3$     |{$q_3$, $q_4$} |$\\emptyset$    |$\\emptyset$    |\n",
    "| * $q_4$   |$\\emptyset$    |$\\emptyset$    |$\\emptyset$    |\n",
    "\n"
   ]
  },
  {
   "cell_type": "markdown",
   "metadata": {},
   "source": [
    "Diagrama\n",
    "![a1](a1.jpg)"
   ]
  },
  {
   "cell_type": "markdown",
   "metadata": {},
   "source": [
    "\n"
   ]
  },
  {
   "cell_type": "markdown",
   "metadata": {},
   "source": [
    "## Ejercicio 6\n",
    "\n",
    "Escriba un autómata que reconozca todos las cadenas sobre $\\{1,0\\}$ que representan números binarios que son divisibles por $5$. Por ejemplo, 101, 1010, 1111, 11001. (3 Puntos)"
   ]
  },
  {
   "cell_type": "markdown",
   "metadata": {},
   "source": [
    "### Solución\n",
    "\n",
    "Se define el autómata finito determinístico como: $A= (Q,\\sum,\\delta,Q_0,F)$, donde:\n",
    "\n",
    "$Q=\\{q_0, q_1, q_2, q_3, q_4, q_5\\}$\n",
    "\n",
    "$\\sum= \\{1,0\\}$\n",
    "\n",
    "$Q_0= \\{q_0\\}$\n",
    "\n",
    "$F=\\{q_5\\}$\n",
    "\n",
    "Y la función de transición $\\delta$ como:  "
   ]
  },
  {
   "cell_type": "markdown",
   "metadata": {},
   "source": [
    "| $\\delta$  |   1       |   0       | \n",
    "|---------- |:---------:|:----------|\n",
    "|  ->$q_0$  | $q_1$     |$\\emptyset$|\n",
    "|   $q_1$   | $q_4$     | $q_2$     |\n",
    "|   $q_2$   | $q_3$     | $q_5$     |\n",
    "|   $q_3$   | $q_1$     | $q_3$     |\n",
    "| * $q_4$   | $q_2$     | $q_1$     |\n",
    "| * $q_5$   | $q_1$     | $q_4$     |\n"
   ]
  },
  {
   "cell_type": "markdown",
   "metadata": {},
   "source": [
    "Diagrama\n",
    "![a3](a3.jpg)"
   ]
  },
  {
   "cell_type": "markdown",
   "metadata": {},
   "source": [
    "## Ejercicio 8\n",
    "\n",
    "Pruebe o desapruebe la siguiente afirmación: El siguiente autómata acepta el lenguaje $L=\\{w\\ |\\ w\\ =\\ a^i\\ b^i\\ o\\ w\\ =\\ a^i\\ c^i,\\ i\\geq1, j\\geq1\\} $ (2 Puntos)"
   ]
  },
  {
   "cell_type": "markdown",
   "metadata": {
    "collapsed": true
   },
   "source": [
    "## Solución\n",
    "\n",
    "La unica forma de llegar al unico estado de finalización es cuando $w=\\ a^i\\ b^j, i\\geq 1, j\\geq1$. \n",
    "\n",
    "La demostración se hace por inducción mutua de las tres proposiciones siguientes que caracterizan los tres estados:\n",
    "\n",
    "1. δ (1,w) contiene al estado 1 para toda w=$\\epsilon$.\n",
    "2. δ (1,w) contiene al estado 2 si y sólo si w termina en 'a'.\n",
    "3. δ (1,w) contiene al estado 3 si y sólo si w termina en \"ab\".\n",
    "\n",
    "Puesto que el lenguaje de este autómata es el conjunto de cadenas w tal que δ (1,w) contiene 3 (porque 3 es el único estado de aceptación), la demostración de estas tres proposiciones, en concreto la demostración de la (3), garantiza que el lenguaje de este AFN es el conjunto de las cadenas que terminan en \"ab\". La demostración del teorema se realiza por inducción sobre |w|, la longitud de w, comenzando con la longitud 0.\n",
    "\n",
    "### BASE.\n",
    "\n",
    "Si |w| = 0, entonces w = ε. La proposición (1) dice que δ (q0,ε) contiene q0, lo que es cierto porque forma parte de la definición de δ . En cuanto a la proposición (2), sabemos que ε no termina en 0 y también\n",
    "sabemos que δ (q0,ε) no contiene a q1, de nuevo gracias al caso base de la definición de δ . Luego la hipótesis en ambas direcciones del “si y sólo si” son falsas y, por tanto, ambas direcciones de la proposición son verdaderas. La demostración de la proposición (3) para w = ε es prácticamente la misma que para la proposición (2).\n",
    "\n",
    "### PASO INDUCTIVO. \n",
    "\n",
    "Supongamos que w = xy, donde y es un símbolo, 'a' o 'b'. Podemos suponer que las proposiciones (1) hasta (3) se cumplen para x, por lo que tenemos que comprobarlas para w. Es decir, suponemos |w| = n + 1, tal que |x| = n. Suponemos la hipótesis inductiva para n y la demostramos para n + 1.\n",
    "\n",
    "1. Sabemos que δ (1,x) contiene a 1 siempre que la entrada sea $\\epsilon$. Puesto que no existen transiciones etiquetadas con 'a' y 'b' desde 1 a sí mismo, se deduce que δ (1,w) se contiene a si mismo, por lo que la proposición (1) queda demostrada para w.\n",
    "\n",
    "2. Parte Si. Supongamos que w termina en 'a'; es decir, y = 'a'. Dado que existe transición desde el estado 1 al estado 2 para la entrada 'a', concluimos que δ (1,w) contiene a 2. Parte Sólo si. Supongamos que δ (1,w) contiene 2. Si nos fijamos en el diagrama del autómata, vemos que la única forma de llegar al estado 2 es si la secuencia de entrada w es de la forma \"ya\". Esto basta para demostrar la parte “solo sí” de la proposición (2). \n",
    "\n",
    "3. Parte Si. Suponemos que w termina en \"ab\". Entonces si w = xy, sabemos que y = 'b' y x termina en 'a'. Aplicando la proposición (2) a x, sabemos que δ (1,x) contiene 2. Puesto que existe una transición desde el estado 2 al estado 3 para la entrada 'b', concluimos que δ (1,w) contiene al estado 3. Parte Solo sí. Suponemos que δ (1,w) contiene al estado 3. Fijándonos en el diagrama, comprobamos que la única forma de llegar al estado 3 es cuando w tiene la forma xb, donde δ (1 , x) contiene a 2. Aplicando la proposición (2) a x, sabemos que x termina en a. Por tanto, w termina en ab y hemos demostrado la proposición (3).\n",
    "\n",
    "\n"
   ]
  },
  {
   "cell_type": "markdown",
   "metadata": {
    "collapsed": true
   },
   "source": [
    "## Ejercicio 9\n",
    "\n",
    "Respecto al uso de autómatas (máquinas de estado finito) para el diseño de personajes de video juegos (4 Puntos):\n",
    "\n",
    "- ¿Cúales son las ventajas del uso de la abstracción de maquinas de estado frente a una implementación utlizando condicionales?\n",
    "\n",
    "- ¿Cómo se utilizan los autómatas en el diseño de personajes para video juegos?\n",
    "\n",
    "- Seleccione su personaje de video juegos parecido, especifique formalmente su autómata, encuentre el lenguaje aceptado por el automata, pruebe que el lenguaje propuesto efectivamente es aceptado por el autómata. Seleccione un personaje con al menos cuatro estados y 4 acciones."
   ]
  },
  {
   "cell_type": "markdown",
   "metadata": {},
   "source": [
    "### Solución\n",
    "\n",
    "- Las maquinas de estado finito son intuitivas y muy fáciles de entender, al poder visualizar el diagrama es mucho mas facil analizar y entender el diseño del sisema que analizar lineas de codigo con muchas condicionales. Al hacer uso de la abstraccion de maquinas de estado finito los detalles secundarios que no soy muy utiles para entender el algoritmo se omiten y se centra en propiedades claves para su funcionamiento. Las maquinas de estado finito son universales, es decir, se pueden implementar a cualquier leguaje, hace que el trabajo del programador sea mucho mas agradable que usar lineas y lineas de condicionales. Ayuda a evitar escribir codigo complejo e incomprensible y ayuda a minimizar la cantidad de variables necesarias.\n",
    "\n",
    "\n",
    "\n"
   ]
  },
  {
   "cell_type": "markdown",
   "metadata": {},
   "source": [
    "- Las máquinas de estados son muy útiles para el desarrollo de videojuegos en la modelacion de personajes, estas maquinas de estado infinito proporcionan inteligencia artificial a cada personaje, cada estado es una accion que realiza el personaje dependiendo de unas condiciones para permanecer en ese estado o por el contrario cambiar de estado segun su ambiente."
   ]
  },
  {
   "cell_type": "markdown",
   "metadata": {},
   "source": [
    "- Juego: Flappy Bird\n",
    "\n",
    "Se define el autómata finito determinístico como: $A= (Q,\\sum,\\delta,Q_0,F)$, donde:\n",
    "\n",
    "$Q=\\{volar1, volar2, muro, suelo\\}$\n",
    "\n",
    "$\\sum= \\{1,0\\}$, donde 1 representa un click y 0 la ausencia de click\n",
    "\n",
    "$Q_0= \\{volar1\\}$\n",
    "\n",
    "$F=\\{suelo\\}$\n",
    "\n",
    "Y la función de transición $\\delta$ como:  \n"
   ]
  },
  {
   "cell_type": "markdown",
   "metadata": {},
   "source": [
    "| $\\delta$     |   1              |   0             |$\\epsilon$|\n",
    "|------------- |:----------------:|:---------------:|----------|\n",
    "|  ->$volar1$  | $volar2$         |$\\emptyset$      |$\\emptyset$|\n",
    "|   $volar2$   | {volar2,muro}    | {muro,suelo\\}   |$\\emptyset$|\n",
    "|   $muro$     | $suelo$          | $suelo$         | $suelo$ |\n",
    "|  * $suelo$   | $\\emptyset$      | $\\emptyset$     |$\\emptyset$|\n"
   ]
  },
  {
   "cell_type": "markdown",
   "metadata": {},
   "source": [
    "Diagrama\n",
    "![af](af.jpg)"
   ]
  }
 ],
 "metadata": {
  "kernelspec": {
   "display_name": "Python 3",
   "language": "python",
   "name": "python3"
  },
  "language_info": {
   "codemirror_mode": {
    "name": "ipython",
    "version": 3
   },
   "file_extension": ".py",
   "mimetype": "text/x-python",
   "name": "python",
   "nbconvert_exporter": "python",
   "pygments_lexer": "ipython3",
   "version": "3.6.0"
  }
 },
 "nbformat": 4,
 "nbformat_minor": 2
}
